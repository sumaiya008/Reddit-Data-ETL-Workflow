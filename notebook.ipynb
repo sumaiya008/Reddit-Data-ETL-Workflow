{
 "cells": [
  {
   "cell_type": "code",
   "execution_count": 1,
   "metadata": {},
   "outputs": [],
   "source": [
    "# this note book is for step by step terminal commands that i followed"
   ]
  },
  {
   "cell_type": "code",
   "execution_count": null,
   "metadata": {},
   "outputs": [],
   "source": [
    "# python3 -m venv venv \n",
    "# source venv/bin/activate \n",
    "\n",
    "# pip install apache-airflow pandas numpy praw \n",
    "# mkdir config dags data etls logs pipelines tests utils \n",
    "# touch airflow.env docker-compose.yml Dockerfile \n",
    "# pip freeze > requirements.txt \n",
    "# touch .gitignore \n",
    "\n",
    "# docker compose up -d --build \n",
    "# docker compose down\n",
    "\n"
   ]
  }
 ],
 "metadata": {
  "kernelspec": {
   "display_name": "base",
   "language": "python",
   "name": "python3"
  },
  "language_info": {
   "codemirror_mode": {
    "name": "ipython",
    "version": 3
   },
   "file_extension": ".py",
   "mimetype": "text/x-python",
   "name": "python",
   "nbconvert_exporter": "python",
   "pygments_lexer": "ipython3",
   "version": "3.9.13"
  }
 },
 "nbformat": 4,
 "nbformat_minor": 2
}
